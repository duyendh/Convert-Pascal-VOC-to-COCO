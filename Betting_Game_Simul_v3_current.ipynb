{
  "nbformat": 4,
  "nbformat_minor": 0,
  "metadata": {
    "colab": {
      "name": "Betting_Game_Simul_v3_current.ipynb",
      "provenance": [],
      "collapsed_sections": [],
      "include_colab_link": true
    },
    "kernelspec": {
      "display_name": "Python 3",
      "name": "python3"
    },
    "widgets": {
      "application/vnd.jupyter.widget-state+json": {
        "8eed5699f6b741089d8768ed41d216bf": {
          "model_module": "@jupyter-widgets/controls",
          "model_name": "HBoxModel",
          "state": {
            "_view_name": "HBoxView",
            "_dom_classes": [],
            "_model_name": "HBoxModel",
            "_view_module": "@jupyter-widgets/controls",
            "_model_module_version": "1.5.0",
            "_view_count": null,
            "_view_module_version": "1.5.0",
            "box_style": "",
            "layout": "IPY_MODEL_db0e3311d6dd45fa93e1215a48f68edb",
            "_model_module": "@jupyter-widgets/controls",
            "children": [
              "IPY_MODEL_9c1cf4a71cd34ca391194568763a8fd1",
              "IPY_MODEL_41a67e7746044c4f8d7e8235485c0781"
            ]
          }
        },
        "db0e3311d6dd45fa93e1215a48f68edb": {
          "model_module": "@jupyter-widgets/base",
          "model_name": "LayoutModel",
          "state": {
            "_view_name": "LayoutView",
            "grid_template_rows": null,
            "right": null,
            "justify_content": null,
            "_view_module": "@jupyter-widgets/base",
            "overflow": null,
            "_model_module_version": "1.2.0",
            "_view_count": null,
            "flex_flow": null,
            "width": null,
            "min_width": null,
            "border": null,
            "align_items": null,
            "bottom": null,
            "_model_module": "@jupyter-widgets/base",
            "top": null,
            "grid_column": null,
            "overflow_y": null,
            "overflow_x": null,
            "grid_auto_flow": null,
            "grid_area": null,
            "grid_template_columns": null,
            "flex": null,
            "_model_name": "LayoutModel",
            "justify_items": null,
            "grid_row": null,
            "max_height": null,
            "align_content": null,
            "visibility": null,
            "align_self": null,
            "height": null,
            "min_height": null,
            "padding": null,
            "grid_auto_rows": null,
            "grid_gap": null,
            "max_width": null,
            "order": null,
            "_view_module_version": "1.2.0",
            "grid_template_areas": null,
            "object_position": null,
            "object_fit": null,
            "grid_auto_columns": null,
            "margin": null,
            "display": null,
            "left": null
          }
        },
        "9c1cf4a71cd34ca391194568763a8fd1": {
          "model_module": "@jupyter-widgets/controls",
          "model_name": "FloatProgressModel",
          "state": {
            "_view_name": "ProgressView",
            "style": "IPY_MODEL_62c309e5f7f84d618dec61daab81bb81",
            "_dom_classes": [],
            "description": "",
            "_model_name": "FloatProgressModel",
            "bar_style": "success",
            "max": 1,
            "_view_module": "@jupyter-widgets/controls",
            "_model_module_version": "1.5.0",
            "value": 1,
            "_view_count": null,
            "_view_module_version": "1.5.0",
            "orientation": "horizontal",
            "min": 0,
            "description_tooltip": null,
            "_model_module": "@jupyter-widgets/controls",
            "layout": "IPY_MODEL_76a8ff0653f841f79e456dfa711f67b7"
          }
        },
        "41a67e7746044c4f8d7e8235485c0781": {
          "model_module": "@jupyter-widgets/controls",
          "model_name": "HTMLModel",
          "state": {
            "_view_name": "HTMLView",
            "style": "IPY_MODEL_efe2daacfaee4a99a8853000c59fae49",
            "_dom_classes": [],
            "description": "",
            "_model_name": "HTMLModel",
            "placeholder": "​",
            "_view_module": "@jupyter-widgets/controls",
            "_model_module_version": "1.5.0",
            "value": " 59/? [11:22&lt;00:00, 11.56s/it]",
            "_view_count": null,
            "_view_module_version": "1.5.0",
            "description_tooltip": null,
            "_model_module": "@jupyter-widgets/controls",
            "layout": "IPY_MODEL_4d4f411682b04be1a3ffd51799b5844b"
          }
        },
        "62c309e5f7f84d618dec61daab81bb81": {
          "model_module": "@jupyter-widgets/controls",
          "model_name": "ProgressStyleModel",
          "state": {
            "_view_name": "StyleView",
            "_model_name": "ProgressStyleModel",
            "description_width": "initial",
            "_view_module": "@jupyter-widgets/base",
            "_model_module_version": "1.5.0",
            "_view_count": null,
            "_view_module_version": "1.2.0",
            "bar_color": null,
            "_model_module": "@jupyter-widgets/controls"
          }
        },
        "76a8ff0653f841f79e456dfa711f67b7": {
          "model_module": "@jupyter-widgets/base",
          "model_name": "LayoutModel",
          "state": {
            "_view_name": "LayoutView",
            "grid_template_rows": null,
            "right": null,
            "justify_content": null,
            "_view_module": "@jupyter-widgets/base",
            "overflow": null,
            "_model_module_version": "1.2.0",
            "_view_count": null,
            "flex_flow": null,
            "width": null,
            "min_width": null,
            "border": null,
            "align_items": null,
            "bottom": null,
            "_model_module": "@jupyter-widgets/base",
            "top": null,
            "grid_column": null,
            "overflow_y": null,
            "overflow_x": null,
            "grid_auto_flow": null,
            "grid_area": null,
            "grid_template_columns": null,
            "flex": null,
            "_model_name": "LayoutModel",
            "justify_items": null,
            "grid_row": null,
            "max_height": null,
            "align_content": null,
            "visibility": null,
            "align_self": null,
            "height": null,
            "min_height": null,
            "padding": null,
            "grid_auto_rows": null,
            "grid_gap": null,
            "max_width": null,
            "order": null,
            "_view_module_version": "1.2.0",
            "grid_template_areas": null,
            "object_position": null,
            "object_fit": null,
            "grid_auto_columns": null,
            "margin": null,
            "display": null,
            "left": null
          }
        },
        "efe2daacfaee4a99a8853000c59fae49": {
          "model_module": "@jupyter-widgets/controls",
          "model_name": "DescriptionStyleModel",
          "state": {
            "_view_name": "StyleView",
            "_model_name": "DescriptionStyleModel",
            "description_width": "",
            "_view_module": "@jupyter-widgets/base",
            "_model_module_version": "1.5.0",
            "_view_count": null,
            "_view_module_version": "1.2.0",
            "_model_module": "@jupyter-widgets/controls"
          }
        },
        "4d4f411682b04be1a3ffd51799b5844b": {
          "model_module": "@jupyter-widgets/base",
          "model_name": "LayoutModel",
          "state": {
            "_view_name": "LayoutView",
            "grid_template_rows": null,
            "right": null,
            "justify_content": null,
            "_view_module": "@jupyter-widgets/base",
            "overflow": null,
            "_model_module_version": "1.2.0",
            "_view_count": null,
            "flex_flow": null,
            "width": null,
            "min_width": null,
            "border": null,
            "align_items": null,
            "bottom": null,
            "_model_module": "@jupyter-widgets/base",
            "top": null,
            "grid_column": null,
            "overflow_y": null,
            "overflow_x": null,
            "grid_auto_flow": null,
            "grid_area": null,
            "grid_template_columns": null,
            "flex": null,
            "_model_name": "LayoutModel",
            "justify_items": null,
            "grid_row": null,
            "max_height": null,
            "align_content": null,
            "visibility": null,
            "align_self": null,
            "height": null,
            "min_height": null,
            "padding": null,
            "grid_auto_rows": null,
            "grid_gap": null,
            "max_width": null,
            "order": null,
            "_view_module_version": "1.2.0",
            "grid_template_areas": null,
            "object_position": null,
            "object_fit": null,
            "grid_auto_columns": null,
            "margin": null,
            "display": null,
            "left": null
          }
        }
      }
    }
  },
  "cells": [
    {
      "cell_type": "markdown",
      "metadata": {
        "id": "view-in-github",
        "colab_type": "text"
      },
      "source": [
        "<a href=\"https://colab.research.google.com/github/duyendh/Convert-Pascal-VOC-to-COCO/blob/master/Betting_Game_Simul_v3_current.ipynb\" target=\"_parent\"><img src=\"https://colab.research.google.com/assets/colab-badge.svg\" alt=\"Open In Colab\"/></a>"
      ]
    },
    {
      "cell_type": "markdown",
      "metadata": {
        "id": "a6JwNDeF5grF"
      },
      "source": [
        "Setup"
      ]
    },
    {
      "cell_type": "code",
      "metadata": {
        "colab": {
          "base_uri": "https://localhost:8080/"
        },
        "id": "BxsX-ZmnO5rG",
        "outputId": "843d6067-4d6e-4cb6-a299-2adda1beb602"
      },
      "source": [
        "import operator\r\n",
        "import random\r\n",
        "import pandas as pd\r\n",
        "import os \r\n",
        "import numpy as np \r\n",
        "import matplotlib.pyplot as plt\r\n",
        "import collections \r\n",
        "import pickle\r\n",
        "import math\r\n",
        "from tqdm.notebook import tqdm\r\n",
        "from typing import List\r\n",
        "\r\n",
        "\r\n",
        "from google.colab import drive\r\n",
        "drive.mount('/content/drive',force_remount=True)\r\n",
        "main_path = \"/content/drive/My Drive/betting_scheme/data/\"\r\n",
        "\r\n",
        "import matplotlib.pyplot as plt\r\n",
        "import seaborn as sns\r\n",
        "%matplotlib inline\r\n",
        "sns.set()\r\n"
      ],
      "execution_count": 1,
      "outputs": [
        {
          "output_type": "stream",
          "text": [
            "Mounted at /content/drive\n"
          ],
          "name": "stdout"
        }
      ]
    },
    {
      "cell_type": "markdown",
      "metadata": {
        "id": "z-LkmoMfPeL6"
      },
      "source": [
        "###Data"
      ]
    },
    {
      "cell_type": "code",
      "metadata": {
        "id": "XO71s6hsPhEM"
      },
      "source": [
        "with open(main_path + 'simul_data/trading_sample.pickle', 'rb') as handle:\r\n",
        "    buying_sample = pickle.load(handle)\r\n",
        "\r\n",
        "with open(main_path + 'simul_data/margin_sample.pickle', 'rb') as handle:\r\n",
        "    margin_sample = pickle.load(handle)\r\n",
        "\r\n",
        "with open(main_path + 'simul_data/trading_selling_sample.pickle', 'rb') as handle:\r\n",
        "    selling_sample = pickle.load(handle)   \r\n",
        "\r\n",
        "#cash balance\r\n",
        "path = main_path + 'cash_in_balance_v1/cash_in_balance_v1.csv'\r\n",
        "cash = pd.read_csv(path, index_col='TradeDate', usecols=['AccountID', 'TradeDate', 'Amount', 'CashBalance'], parse_dates=True)\r\n",
        "cash = cash.loc[cash['CashBalance'] < 2e9]\r\n",
        "cash = cash.loc[cash['AccountID'].str[-1] == '1']\r\n",
        "cash_balance = cash['CashBalance'][cash['CashBalance'] > 0]\r\n",
        "cash_in = cash['Amount']"
      ],
      "execution_count": 2,
      "outputs": []
    },
    {
      "cell_type": "markdown",
      "metadata": {
        "id": "o8VE1-NePY4E"
      },
      "source": [
        "###User growth"
      ]
    },
    {
      "cell_type": "code",
      "metadata": {
        "colab": {
          "base_uri": "https://localhost:8080/",
          "height": 285
        },
        "id": "0_4mxg4sPotd",
        "outputId": "a6dab4fe-3346-4e8f-ef35-7cc618efef62"
      },
      "source": [
        "# User growth pattern\r\n",
        "expected_users = 100000\r\n",
        "growth_rate = 0.02\r\n",
        "life_cycle = 254\r\n",
        "time_range = [x for x in range(1,life_cycle,1)]\r\n",
        "growth_pattern = [ expected_users/(1+np.exp(-growth_rate*(x-(life_cycle/2)))) for x in time_range]\r\n",
        "plt.plot(growth_pattern)"
      ],
      "execution_count": 12,
      "outputs": [
        {
          "output_type": "execute_result",
          "data": {
            "text/plain": [
              "[<matplotlib.lines.Line2D at 0x7f945a927630>]"
            ]
          },
          "metadata": {
            "tags": []
          },
          "execution_count": 12
        },
        {
          "output_type": "display_data",
          "data": {
            "image/png": "[encoded data removed]",
            "text/plain": [
              "<Figure size 432x288 with 1 Axes>"
            ]
          },
          "metadata": {
            "tags": [],
            "needs_background": "light"
          }
        }
      ]
    },
    {
      "cell_type": "code",
      "metadata": {
        "colab": {
          "base_uri": "https://localhost:8080/",
          "height": 285
        },
        "id": "YuIRTCu8rn1W",
        "outputId": "7805d242-5eb4-4342-afe7-5b7d71ddb9fb"
      },
      "source": [
        "growth = growth_pattern[:60]\r\n",
        "ab_growth = [int(x) for x in pd.Series(growth).diff().values[1:]]\r\n",
        "plt.plot(growth)"
      ],
      "execution_count": 13,
      "outputs": [
        {
          "output_type": "execute_result",
          "data": {
            "text/plain": [
              "[<matplotlib.lines.Line2D at 0x7f945a8e9940>]"
            ]
          },
          "metadata": {
            "tags": []
          },
          "execution_count": 13
        },
        {
          "output_type": "display_data",
          "data": {
            "image/png": "[encoded data removed]",
            "text/plain": [
              "<Figure size 432x288 with 1 Axes>"
            ]
          },
          "metadata": {
            "tags": [],
            "needs_background": "light"
          }
        }
      ]
    },
    {
      "cell_type": "markdown",
      "metadata": {
        "id": "NkWgB07MXwN3"
      },
      "source": [
        "###Function"
      ]
    },
    {
      "cell_type": "code",
      "metadata": {
        "id": "tCknkI6NXxnU"
      },
      "source": [
        "# User growth\r\n",
        "def user_growth(\r\n",
        "\texpected_users:int=100000, growth_rate:float=0.02,\r\n",
        "\tlife_cycle:int=365,\r\n",
        "  day_test:int=60\r\n",
        "\t):\r\n",
        "  \"\"\"\r\n",
        "    return absolute growth per day for given number of day_test\r\n",
        "  \"\"\"\r\n",
        "  growth_pattern = [expected_users/(1+np.exp(-growth_rate*(x-(life_cycle/2)))) for x in time_range]\r\n",
        "  ab_growth = [int(x) for x in pd.Series(growth_pattern[:day_test]).diff().values[1:]]\r\n",
        "  return ab_growth\r\n",
        "\r\n",
        "\r\n",
        "# Min/max Scaling\r\n",
        "def min_max_scaling(X):\r\n",
        "\tmax_X = max(X) \r\n",
        "\tmin_X = min(X)\r\n",
        "\tX = [(x - min_X)/(max_X - min_X) for x in X]\r\n",
        "\treturn X\r\n",
        "\r\n",
        "# Softmax values\r\n",
        "def softmax(x):\r\n",
        "    \"\"\"\r\n",
        "    Compute softmax values for each sets of scores in x\r\n",
        "    \"\"\"\r\n",
        "    e_x = np.exp(x - np.max(x))\r\n",
        "    return e_x / e_x.sum(axis=0)\r\n",
        "\r\n",
        "# Uniform choice\r\n",
        "def binary_choice(p=0.8):\r\n",
        "\treturn True if random.random() < p else False\r\n",
        "\r\n",
        "# Split to 3 sequence for matching active level with cash balance\r\n",
        "def split_sequence(sequence, portion=3):\r\n",
        "\t_min = min(sequence)\r\n",
        "\t_max = max(sequence)\r\n",
        "\treturn (_max-_min) // portion\r\n",
        "\r\n",
        "# Price pattern\r\n",
        "def entry_price(\r\n",
        "\tt :int = 1,\r\n",
        "    checkpoints: float =[0.3,0.7,1],\r\n",
        "    based_exponential :float = 2,\r\n",
        "    extra_cost : int =  -30,\r\n",
        "            ):\r\n",
        "\t\"\"\"\r\n",
        "\t\tEntry Price of Game\r\n",
        "\t\tArgs:\r\n",
        "\t\t    sub_game(int) : subgame \r\n",
        "\t\t    t (int):      capstone of subgame \r\n",
        "\t\"\"\"\r\n",
        "\tsub_game = 0\r\n",
        "\tif t > checkpoints[0]:\r\n",
        "\t\tsub_game = 1\r\n",
        "\t\tif t > checkpoints[1]:\r\n",
        "\t\t  sub_game = 2\r\n",
        "\r\n",
        "\treturn extra_cost * sub_game +  300 *  t"
      ],
      "execution_count": 9,
      "outputs": []
    },
    {
      "cell_type": "markdown",
      "metadata": {
        "id": "3lN1hRVLPIhB"
      },
      "source": [
        "###User Class"
      ]
    },
    {
      "cell_type": "code",
      "metadata": {
        "id": "zK_8wniNPQb5"
      },
      "source": [
        "class USER(): \r\n",
        "  def __init__(self, id, conversion_rate):\r\n",
        "    \"\"\"\r\n",
        "\r\n",
        "      id (int) : the id of user \r\n",
        "      point (int): accumulated silver point\r\n",
        "      iguru_account (bool): has iguru account or not\r\n",
        "      ssi_account (bool): has ssi account or not\r\n",
        "      showed_portfolio (bool): decide to show portfolio or not\r\n",
        "      cash_balance (float): the amount of cash in balance, to calculate interest\r\n",
        "      outstanding_amount (float): the amount of money owned, accumulated each time users taking margin\r\n",
        "      top_up_time (int): the number of time users top up, for analysis\r\n",
        "      refer_time (int): the number of time users refer, for analysis\r\n",
        "\r\n",
        "    \"\"\" \r\n",
        "    # Input\r\n",
        "    self.id = id\r\n",
        "    self.conversion_rate = conversion_rate\r\n",
        "\r\n",
        "    # Point\r\n",
        "    self.point = 0\r\n",
        "    self.gold = 0\r\n",
        "    self.point_converted_from_gold = 0\r\n",
        "\r\n",
        "    # User's attributes\r\n",
        "    self.ssi_account = False\r\n",
        "    self.showed_portfolio = False\r\n",
        "    self.referred = False\r\n",
        "    self.is_margin = False\r\n",
        "    self.link_ssi_account = False\r\n",
        "    self.active_level = 0\r\n",
        "    self.active_level_scaled = 0\r\n",
        "    self.top_up_time = 0\r\n",
        "    self.refer_time = 0\r\n",
        "    self.be_viewed = 0\r\n",
        "    self.view_fail = 0\r\n",
        "    self.view_portfolio_time = 0\r\n",
        "    self.be_followed = 0\r\n",
        "    self.follow_guru_time = 0\r\n",
        "    self.follow_fail = 0\r\n",
        "    self.game_play_time = 0\r\n",
        "    self.winning_time = 0\r\n",
        "    self.winning_size = 0\r\n",
        "    self.total_betting = 0\r\n",
        "    self.stat_bet = list()\r\n",
        "    self.cash_balance = 0\r\n",
        "    self.outstanding_amount = 0\r\n",
        "    self.total_buy_amount = 0\r\n",
        "    self.total_sell_amount = 0\r\n",
        "    self.trade_day = 0\r\n",
        "    self.monthly_cap = {\r\n",
        "        'trading_value': {'current': 0, 'max': 10^20}, \r\n",
        "        'margin_value':  {'current': 0, 'max': 10^20}, \r\n",
        "      } # Means no cap\r\n",
        "\r\n",
        "  # Monthly trade and margin cap for give point\r\n",
        "  def set_monthly_cap_value(self, max_trading_value, max_margin_value): \r\n",
        "    \"\"\"\r\n",
        "    only give point to trading value and margin value less than cap value,\r\n",
        "    eg: 1 tỷ vnd, nếu trade/margin nhiều hơn 1 tỷ sẽ k được hưởng ưu đãi,\r\n",
        "    reset theo tháng => Update no ceil/floor cap '10^20'\r\n",
        "    \"\"\"\r\n",
        "    self.monthly_cap['trading_value']['max'] = max_trading_value\r\n",
        "    self.monthly_cap['margin_value']['max'] = max_margin_value \r\n",
        "    self.monthly_cap['trading_value']['current'] = 0\r\n",
        "    self.monthly_cap['margin_value']['current'] = 0  \r\n",
        "\r\n",
        "  def set_active(self, active_level, active_level_scaled):\r\n",
        "    \"\"\"\r\n",
        "      users with high active level trade more, tend to use margin, and high prob to be guru\r\n",
        "    \"\"\"\r\n",
        "    self.active_level = active_level\r\n",
        "    self.active_level_scaled = active_level_scaled\r\n",
        "\r\n",
        "  def set_margin(self): \r\n",
        "    \"\"\"\r\n",
        "      Note: is margin account or not \r\n",
        "    \"\"\"\r\n",
        "    self.is_margin = True\r\n",
        "\r\n",
        "  def add_trade_day(self): \r\n",
        "    self.trade_day += 1\r\n",
        "\r\n",
        "  def add_buy_amount(self, buy_amount): \r\n",
        "    self.total_buy_amount += buy_amount\r\n",
        "\r\n",
        "  def add_sell_amount(self, sell_amount): \r\n",
        "    self.total_sell_amount += sell_amount\r\n",
        "\r\n",
        "  def convert_to_point(self, point): \r\n",
        "    gold_needed = math.floor(point * self.conversion_rate)\r\n",
        "\r\n",
        "    if self.gold > gold_needed: \r\n",
        "        self.point += gold_needed / self.conversion_rate\r\n",
        "        self.point_converted_from_gold = gold_needed / self.conversion_rate\r\n",
        "        self.gold -= gold_needed \r\n",
        "\r\n",
        "        return gold_needed \r\n",
        "    else: \r\n",
        "      return None  \r\n",
        "\r\n",
        "\r\n",
        "\t#==========================================#\r\n",
        "\t#                                          #\r\n",
        "\t#\t\t\t        \t   SILVER\t\t        \t\t   #\r\n",
        "\t#                                          #\r\n",
        "\t#==========================================#\r\n",
        "\r\n",
        "  #1 Label open iguru\r\n",
        "  def open_account(self, point_earned):\r\n",
        "    \"\"\"\r\n",
        "      Open iGuru Account \r\n",
        "    \"\"\" \r\n",
        "    self.point += point_earned\r\n",
        "\r\n",
        "    return point_earned\r\n",
        "\r\n",
        "  #2 Make referral\r\n",
        "  def make_referral(self, point_earned): \r\n",
        "    \"\"\"\r\n",
        "      User making referral \r\n",
        "    \"\"\" \r\n",
        "    self.refer_time += 1\r\n",
        "    self.point += point_earned\r\n",
        "\r\n",
        "  #3 View/query portfolio\r\n",
        "  def view_portfolio(self, user, point_earned):\r\n",
        "    \"\"\"\r\n",
        "      Users decide to view other portfolio 'if they've showed theirs'. Then they\r\n",
        "      have to spend 'point' for action. Users been viewed are earned 70% of that\r\n",
        "      point \r\n",
        "    \"\"\"\r\n",
        "    if user.showed_portfolio == True:\r\n",
        "      if point_earned > self.point: \r\n",
        "        can_convert = self.convert_to_point(point_earned - self.point)\r\n",
        "        if can_convert is None: \r\n",
        "        #not enough point to bet and cannot convert gold \r\n",
        "          self.view_fail += 1\r\n",
        "          return 0 \r\n",
        "\r\n",
        "      self.point -= point_earned\r\n",
        "      self.view_portfolio_time += 1\r\n",
        "      user.point += point_earned * 0.7\r\n",
        "      user.be_viewed += 1\r\n",
        "      return point_earned * 0.7\r\n",
        "\r\n",
        "    else: \r\n",
        "      return 0\r\n",
        "\r\n",
        "  #4 Following/Followed Guru\r\n",
        "  def follow_guru(self, user, point_earned):\r\n",
        "    \"\"\"\r\n",
        "      Users decide to follow guru 'if they've showed theirs'. Then they\r\n",
        "      have to spend 'point' for aciton. Users been followed are earned 70% of that\r\n",
        "      point\r\n",
        "    \"\"\"\r\n",
        "\r\n",
        "    if user.showed_portfolio == True:\r\n",
        "      if point_earned > self.point: \r\n",
        "        can_convert = self.convert_to_point(point_earned - self.point)\r\n",
        "        if can_convert is None: \r\n",
        "        #not enough point to bet and cannot convert gold \r\n",
        "          self.follow_fail += 1\r\n",
        "          return 0 \r\n",
        "\r\n",
        "      self.point -= point_earned\r\n",
        "      self.follow_guru_time += 1\r\n",
        "      user.point += point_earned * 0.7\r\n",
        "      user.be_followed += 1\r\n",
        "      return point_earned * 0.7\r\n",
        "\r\n",
        "    else: \r\n",
        "      return 0 \r\n",
        "\r\n",
        "\t#5 Link SSI account\r\n",
        "  def link_with_ssi_account(self, point_earned):\r\n",
        "    if self.ssi_account == False and self.link_ssi_account == False:\r\n",
        "      self.point += point_earned\r\n",
        "      self.ssi_account = True\r\n",
        "      self.link_ssi_account = True\r\n",
        "      return point_earned\r\n",
        "    else:\r\n",
        "      return 0\r\n",
        "\r\n",
        "\r\n",
        "  #==========================================#\r\n",
        "\t#                                          #\r\n",
        "\t#\t\t\t        \t    GOLD  \t      \t\t\t   #\r\n",
        "\t#                                          #\r\n",
        "\t#==========================================#\r\n",
        "  #1 Label open ssi account THROUGH iGuru\r\n",
        "  def open_ssi_account(self, point_earned):\r\n",
        "    \"\"\"\r\n",
        "      Open SSI Account\r\n",
        "    \"\"\" \r\n",
        "    if self.ssi_account == False:\r\n",
        "      self.gold += point_earned\r\n",
        "      self.ssi_account = True\r\n",
        "      return point_earned\r\n",
        "    else:\r\n",
        "      return 0\r\n",
        "\r\n",
        " #2 New fund ========================> promote initial deposit\r\n",
        "  def new_fund(self, amount, initial_rate=0.003, pct=0.001):\r\n",
        "    \"\"\"\r\n",
        "      New fund promoting to initial deposit - Assuming after paid margin\r\n",
        "    \"\"\"\r\n",
        "    if amount > 0:\r\n",
        "      # if user has outstanding_amount, reduce this by top-up amount\r\n",
        "      if self.outstanding_amount > 0: \r\n",
        "        self.outstanding_amount -= amount\r\n",
        "\r\n",
        "        # if the amount of top up larger than outstanding_amount, \r\n",
        "        # add the rest to cash_balance\r\n",
        "        if self.outstanding_amount < 0: \r\n",
        "          # Distinguish initial deposit\r\n",
        "          if self.top_up_time == 0:\r\n",
        "            self.gold -= self.outstanding_amount * initial_rate\r\n",
        "            return self.outstanding_amount * initial_rate\r\n",
        "          else:\r\n",
        "            self.gold -= self.outstanding_amount * pct\r\n",
        "            return self.outstanding_amount * pct\r\n",
        "\r\n",
        "          self.cash_balance -= self.outstanding_amount\r\n",
        "          self.outstanding_amount = 0\r\n",
        "      else:\r\n",
        "        self.cash_balance += amount\r\n",
        "\r\n",
        "        # Distinguish initial deposit\r\n",
        "        if self.top_up_time == 0:\r\n",
        "          self.gold += amount * initial_rate\r\n",
        "          return amount * initial_rate\r\n",
        "        else:\r\n",
        "          self.gold += amount * pct\r\n",
        "          return amount * initial_rate\r\n",
        "\r\n",
        "      #add top up time\r\n",
        "      self.top_up_time += 1\r\n",
        "\r\n",
        "\r\n",
        "  def cash_out(self, amount):\r\n",
        "    self.cash_balance -= min(self.cash_balance, amount)\r\n",
        "\r\n",
        "    return min(self.cash_balance, amount)\r\n",
        "\r\n",
        "  #3 Making margin\r\n",
        "  def make_margin(self, amount, pct):\r\n",
        "    self.outstanding_amount += amount\r\n",
        "\r\n",
        "    # Ceil\r\n",
        "    if (self.monthly_cap['margin_value']['current'] + np.abs(amount)) < self.monthly_cap['margin_value']['max']:\r\n",
        "      self.monthly_cap['margin_value']['current'] += np.abs(amount) \r\n",
        "      self.gold += amount * pct\r\n",
        "      return amount * pct\r\n",
        "    elif (self.monthly_cap['margin_value']['current'] + np.abs(amount)) >= self.monthly_cap['margin_value']['max']:\r\n",
        "      self.monthly_cap['margin_value']['current'] += np.abs(amount) \r\n",
        "      amount = max(0, self.monthly_cap['margin_value']['max'] - self.monthly_cap['margin_value']['current'])\r\n",
        "      self.gold += amount * pct\r\n",
        "      return amount * pct\r\n",
        "\r\n",
        "   #4 Trading\r\n",
        "  def make_trading(self, amount, pct):\r\n",
        "    self.cash_balance -= amount\r\n",
        "\r\n",
        "    # Ceil\r\n",
        "    if (self.monthly_cap['trading_value']['current'] + np.abs(amount)) < self.monthly_cap['trading_value']['max']:\r\n",
        "      self.monthly_cap['trading_value']['current'] += np.abs(amount) \r\n",
        "      self.gold += amount * pct\r\n",
        "      return amount * pct\r\n",
        "    elif (self.monthly_cap['trading_value']['current'] + np.abs(amount)) >= self.monthly_cap['trading_value']['max']:\r\n",
        "      self.monthly_cap['trading_value']['current'] += np.abs(amount) \r\n",
        "      amount = max(0, self.monthly_cap['trading_value']['max'] - self.monthly_cap['trading_value']['current'])\r\n",
        "      self.gold += amount * pct\r\n",
        "      return amount * pct\r\n",
        "\r\n",
        "\r\n",
        "  # Users decide to show their portfolio - once\r\n",
        "  def show_portfolio(self, point_earned):\r\n",
        "    if self.showed_portfolio == False:\r\n",
        "      self.point += point_earned\r\n",
        "      self.showed_portfolio = True\r\n",
        "\r\n",
        "      return point_earned\r\n",
        "    else:\r\n",
        "      return 0\r\n",
        "\r\n",
        "  #==========================================#\r\n",
        "\t#                                          #\r\n",
        "\t#\t\t\t        \tBETTING GAME\t\t      \t   #\r\n",
        "\t#                                          #\r\n",
        "\t#==========================================#\r\n",
        "\r\n",
        "  def _time_bet_(self,mixture_weight = [0.2, 0.3, 0.5],\r\n",
        "    mean_time = [0.2,0.5,0.7], \r\n",
        "    var_time = [0.2,0.2,0.2]):\r\n",
        "        \r\n",
        "    z = np.random.choice(3, 1, p= mixture_weight )[0]\r\n",
        "    time_bet = np.random.normal(mean_time[z],var_time[z]) \r\n",
        "    time_bet = 1 if time_bet > 1 else time_bet if time_bet > 0 else 0 \r\n",
        "    return z, time_bet\r\n",
        "\r\n",
        "\r\n",
        "  def playing_game(self):\r\n",
        "    # Bet \r\n",
        "    z, time_bet = self._time_bet_()\r\n",
        "    p_bet = entry_price(time_bet)\r\n",
        "\r\n",
        "    if p_bet > self.point: \r\n",
        "        can_convert = self.convert_to_point(p_bet - self.point)\r\n",
        "        if can_convert is None: \r\n",
        "        #not enough point to bet and cannot convert gold \r\n",
        "          return None \r\n",
        "\r\n",
        "    self.stat_bet.append(p_bet)\r\n",
        "    self.point += -p_bet\r\n",
        "    self.game_play_time += 1\r\n",
        "\r\n",
        "    return z, p_bet\r\n",
        "\r\n",
        "\r\n",
        "  def win(self, winning_size): \r\n",
        "    # In case winning\r\n",
        "    self.winning_time += 1\r\n",
        "    self.winning_size += winning_size\r\n",
        "    self.gold += winning_size\r\n",
        "\r\n",
        "  #==========================================#\r\n",
        "\t#                                          #\r\n",
        "\t#\t\t\t\t        DATA TO DICT\t       \t\t   #\r\n",
        "\t#                                          #\r\n",
        "\t#==========================================#\r\n",
        "    \r\n",
        "  def to_dict(self):\r\n",
        "    return {\r\n",
        "          'point_from_gold': self.point_converted_from_gold,\r\n",
        "          'id' : self.id,\r\n",
        "          'point' : self.point,\r\n",
        "          'gold' : self.gold, \r\n",
        "          'ssi_account' : self.ssi_account, \r\n",
        "          'link_ssi_account' : self.link_ssi_account,\r\n",
        "          'referred' : self.referred,\r\n",
        "          'showed_portfolio' : self.showed_portfolio,\r\n",
        "          'cash_balance' : self.cash_balance,\r\n",
        "          'outstanding_amount' : self.outstanding_amount,\r\n",
        "          'top_up_time' : self.top_up_time, \r\n",
        "          'refer_time' : self.refer_time, \r\n",
        "          'active_level' : self.active_level,\r\n",
        "          'active_level_scaled' : self.active_level_scaled,\r\n",
        "          'is_margin' : self.is_margin, \r\n",
        "          'trade_day' : self.trade_day,\r\n",
        "          'total_buy_amount' : self.total_buy_amount,\r\n",
        "          'total_sell_amount' : self.total_sell_amount, \r\n",
        "          'be_viewed': self.be_viewed,\r\n",
        "          'view_portfolio_time': self.view_portfolio_time, \r\n",
        "          'be_followed': self.be_followed,\r\n",
        "          'follow_guru_time': self.follow_guru_time,\r\n",
        "          'game_play_time': self.game_play_time,\r\n",
        "          'total_betting': self.total_betting, \r\n",
        "          'winning_time' : self.winning_time,\r\n",
        "          'winning_size' : self.winning_size,\r\n",
        "          'follow_fail' : self.follow_fail,\r\n",
        "          'view_fail' : self.view_fail,\r\n",
        "          }"
      ],
      "execution_count": 24,
      "outputs": []
    },
    {
      "cell_type": "markdown",
      "metadata": {
        "id": "hXnycUQMaPmN"
      },
      "source": [
        "###Simulation Class"
      ]
    },
    {
      "cell_type": "code",
      "metadata": {
        "colab": {
          "base_uri": "https://localhost:8080/",
          "height": 335
        },
        "id": "GY2jOrO0xog1",
        "outputId": "aff18654-db45-4fa2-c1ad-db26407b04f0"
      },
      "source": [
        "#active level \r\n",
        "n = 10000\r\n",
        "active_levels = sorted([max(0, x) for x in np.random.lognormal(2, 1, size=n)])[:int(n*0.95)]\r\n",
        "np.random.shuffle(active_levels)\r\n",
        "active_levels_scaled = min_max_scaling(active_levels)\r\n",
        "plt.hist(active_levels_scaled)"
      ],
      "execution_count": null,
      "outputs": [
        {
          "output_type": "execute_result",
          "data": {
            "text/plain": [
              "(array([2612., 2533., 1545.,  955.,  640.,  405.,  306.,  197.,  164.,\n",
              "         143.]),\n",
              " array([0. , 0.1, 0.2, 0.3, 0.4, 0.5, 0.6, 0.7, 0.8, 0.9, 1. ]),\n",
              " <a list of 10 Patch objects>)"
            ]
          },
          "metadata": {
            "tags": []
          },
          "execution_count": 26
        },
        {
          "output_type": "display_data",
          "data": {
            "image/png": "[encoded data removed]",
            "text/plain": [
              "<Figure size 432x288 with 1 Axes>"
            ]
          },
          "metadata": {
            "tags": []
          }
        }
      ]
    },
    {
      "cell_type": "code",
      "metadata": {
        "id": "dL98d3cSA5sD"
      },
      "source": [
        "class SIMULATION(): \r\n",
        "  def __init__(self, \r\n",
        "               expected_users: int,\r\n",
        "               avg_trade: int,\r\n",
        "               ab_growth: List[int], \r\n",
        "               cash_balance: List[float],\r\n",
        "               cash_in: List[float], \r\n",
        "               selling_sample: List[float], \r\n",
        "               buying_sample: List[float], \r\n",
        "               margin_sample: List[float]):\r\n",
        "    \"\"\" \r\n",
        "        expected_users: the number of expected users at the end of the period \r\n",
        "        ab_growth: absolute growth each day\r\n",
        "        cash_balance: real cash balance sample of one day\r\n",
        "        cash_in: real cash in sample of one day \r\n",
        "        selling_sample: real selling sample of one day\r\n",
        "        buying_sample: real buying sample of one day \r\n",
        "        margin_sample: real margin sample of one day\r\n",
        "    \"\"\"\r\n",
        "    self.count = 0\r\n",
        "\r\n",
        "    #real data\r\n",
        "    self.cash_in = cash_in \r\n",
        "    self.cash_balance = cash_balance\r\n",
        "    self.selling_sample = selling_sample\r\n",
        "    self.buying_sample = buying_sample \r\n",
        "    self.margin_sample = margin_sample\r\n",
        "\r\n",
        "    #assumption variables\r\n",
        "    self.refer_rate = None\r\n",
        "\r\n",
        "    #assumption based on distributions \r\n",
        "    self.avg_trade = avg_trade\r\n",
        "    self.ab_growth = ab_growth\r\n",
        "    # self.active_levels = [max(0, x) for x in np.random.lognormal(2, 1, size=expected_users)]  #old : 0.5, 0.5 \r\n",
        "    self.active_levels = sorted([max(0, x) for x in np.random.lognormal(2, 1, size=expected_users)])[:int(expected_users*0.95)]\r\n",
        "    np.random.shuffle(self.active_levels)\r\n",
        "    self.active_levels_scaled = min_max_scaling(self.active_levels)\r\n",
        "    self.pct_buy = np.random.normal(avg_trade, 1, size=len(ab_growth))\r\n",
        "    self.pct_sell = np.random.normal(avg_trade, 1, size=len(ab_growth))\r\n",
        "    # self.game_spent = [max(0, x) * (game_spent_avg/2) for x in np.random.normal(2, 1, size=expected_users)]\r\n",
        "    self.active_levels_portion = split_sequence(self.active_levels, portion=3)\r\n",
        "    self.cash_balance_portion = split_sequence(self.cash_balance, portion=3)\r\n",
        "    \r\n",
        "    #population variables \r\n",
        "    self.users_base = []\r\n",
        "    self.stat_bet = []\r\n",
        "    self.count = 0\r\n",
        "\r\n",
        "    #variables for statistics report \r\n",
        "    self.stat_dict = {\r\n",
        "      'guru_account_total' : 0, \r\n",
        "      'open_account_total' : 0,\r\n",
        "      'link_account_total': 0,\r\n",
        "      'make_referral_total' : 0,\r\n",
        "      'new_fund_total' : 0,\r\n",
        "      'interest_total' : 0,\r\n",
        "      'make_trading_total' : 0,\r\n",
        "      'make_margin_total': 0,\r\n",
        "      'view_portfolio_total' : 0,\r\n",
        "      'show_portfolio_total' : 0,\r\n",
        "      'follow_guru_total' : 0,\r\n",
        "      'game_spent_total' : 0,\r\n",
        "      'winning_game_total' : 0\r\n",
        "      }\r\n",
        "    self.betting = []\r\n",
        "\r\n",
        "    # points allocation simulation \r\n",
        "    self.open_guru_account_point = None\r\n",
        "    self.open_account_point = None\r\n",
        "    self.link_ssi_account_point = None\r\n",
        "    self.make_referral_point = None\r\n",
        "    self.show_portfolio_point = None \r\n",
        "    self.view_portfolio_point = None\r\n",
        "    self.follow_guru_point = None \r\n",
        "    self.trading_pct = None \r\n",
        "    self.initial_fund_pct = None\r\n",
        "    self.fund_pct = None\r\n",
        "    self.margin_pct = None \r\n",
        "    self.conversion_rate = None \r\n",
        "    self.user_winning_pct = [20/100, 30/100, 50/100]\r\n",
        "    self.winning_pct = None\r\n",
        "    self.max_trading_value = None\r\n",
        "    self.max_margin_value = None\r\n",
        "    \r\n",
        "\r\n",
        "  def set_simulation_variables(self, open_guru_account_point, open_account_point, link_ssi_account_point, \r\n",
        "                               make_referral_point, be_referred_rate, show_portfolio_point, view_portfolio_point, \r\n",
        "                               follow_guru_point, initial_fund_pct, fund_pct, trading_pct, margin_pct, \r\n",
        "                               conversion_rate, winning_pct, max_trading_value, max_margin_value):\r\n",
        "    \r\n",
        "       #Gold\r\n",
        "    self.open_account_point = open_account_point\r\n",
        "    self.show_portfolio_point = show_portfolio_point\r\n",
        "    self.trading_pct = trading_pct\r\n",
        "    self.margin_pct = margin_pct\r\n",
        "    self.initial_fund_pct = initial_fund_pct\r\n",
        "    self.fund_pct = fund_pct\r\n",
        "\r\n",
        "       #Silver \r\n",
        "    self.open_guru_account_point = open_guru_account_point\r\n",
        "    self.link_ssi_account_point = link_ssi_account_point\r\n",
        "    self.make_referral_point = make_referral_point\r\n",
        "    self.view_portfolio_point = view_portfolio_point\r\n",
        "    self.follow_guru_point = follow_guru_point\r\n",
        "\r\n",
        "  \r\n",
        "     # Others\r\n",
        "    self.conversion_rate = conversion_rate \r\n",
        "    self.winning_pct = winning_pct\r\n",
        "    self.max_trading_value = max_trading_value\r\n",
        "    self.max_margin_value = max_margin_value\r\n",
        "    self.be_referred_rate = be_referred_rate\r\n",
        "\r\n",
        "\r\n",
        "  def add_new_user(self,user_num, total_refer):\r\n",
        "    \"\"\" \r\n",
        "        add new user, set active level, set ssi_account, set margin, give initial fund, set who will show their porfolio\r\n",
        "        user_num: number of users\r\n",
        "    \"\"\"\r\n",
        "    new_users_base = []\r\n",
        "\r\n",
        "    for num in range(user_num):\r\n",
        "      user = USER(self.count, self.conversion_rate)\r\n",
        "      user.set_monthly_cap_value(max_trading_value, max_margin_value)\r\n",
        "      point_earned = user.open_account(self.open_guru_account_point)\r\n",
        "      self.stat_dict['guru_account_total'] += point_earned\r\n",
        "\r\n",
        "      if num < total_refer: \r\n",
        "          user.point += self.make_referral_point * self.be_referred_rate\r\n",
        "\r\n",
        "      #set active level\r\n",
        "      user.set_active(self.active_levels[self.count], self.active_levels_scaled[self.count]) \r\n",
        "\r\n",
        "      # @tuan added: depending on active level, cash_balance are also randomness from\r\n",
        "      cash_balance_splitted = self.cash_balance[self.cash_balance > (\r\n",
        "          min(self.cash_balance) + self.cash_balance_portion * (math.floor(\r\n",
        "          self.active_levels[self.count] // self.active_levels_portion) - 0.1)\r\n",
        "          )]\r\n",
        "\r\n",
        "      #set users who will open ssi_acount and give them initial balance \r\n",
        "      if binary_choice() and user.active_level_scaled > 0:\r\n",
        "        if binary_choice(0.5): #binary_choice(0.8) sẽ random trong 0.8, nên binary_choice() > 0.4 = binary_choice(0.5)\r\n",
        "          point_earned = user.open_ssi_account(self.open_account_point)\r\n",
        "          self.stat_dict['open_account_total'] += point_earned    \r\n",
        "        else: \r\n",
        "         point_earned = user.link_with_ssi_account(self.link_ssi_account_point)\r\n",
        "         self.stat_dict['link_account_total'] += point_earned\r\n",
        "        \r\n",
        "        _amount = random.choice(cash_balance_splitted)          \r\n",
        "        point_earned = user.new_fund(amount=_amount,initial_rate=self.initial_fund_pct, pct=self.fund_pct) \r\n",
        "        self.stat_dict['new_fund_total'] += point_earned\r\n",
        "\r\n",
        "        #set users who will get a margin \r\n",
        "        if binary_choice(0.45) or user.active_level_scaled > 0.7: \r\n",
        "          user.set_margin()\r\n",
        "\r\n",
        "       #set user who will choose to show portfolio   \r\n",
        "        if binary_choice(0.6) and user.active_level_scaled > 0.1 and user.ssi_account is True:\r\n",
        "          point_earned = user.show_portfolio(self.show_portfolio_point)\r\n",
        "          self.stat_dict['show_portfolio_total'] += point_earned\r\n",
        "\r\n",
        "        #those who does not have ssi account won't trade:\r\n",
        "        if user.ssi_account is False: \r\n",
        "          user.active_level = 0 \r\n",
        "          user.active_level_scaled = 0\r\n",
        "\r\n",
        "      self.users_base.append(user)\r\n",
        "      self.count += 1\r\n",
        "\r\n",
        "  def referral_program(self,total_refer): \r\n",
        "    \"\"\" \r\n",
        "        pick who make referral today \r\n",
        "        total_refer: total number of referrals made\r\n",
        "    \"\"\"\r\n",
        "    refer_base = [u for u in self.users_base if u.refer_time < 6]\r\n",
        "    weights = softmax([u.active_level_scaled for u in refer_base])\r\n",
        "    refer_users = np.random.choice(refer_base, size = total_refer, p = weights, replace=False)\r\n",
        "\r\n",
        "    for user in refer_users:\r\n",
        "      user.make_referral(self.make_referral_point)\r\n",
        "    self.stat_dict['make_referral_total'] += self.make_referral_point * total_refer * (1 + self.be_referred_rate)\r\n",
        "\r\n",
        "    \r\n",
        "  def daily_activities(self):\r\n",
        "    \"\"\" \r\n",
        "        run daily activities: top up, follow guru, view portfolio \r\n",
        "        total_refer: total number of referrals made \r\n",
        "    \"\"\"\r\n",
        "    for user in self.users_base: \r\n",
        "      # Randomness 9% user would top_up with random choice form \r\n",
        "      # 'SSI cash in' on given day\r\n",
        "      if binary_choice(0.09): \r\n",
        "        user.new_fund(amount = random.choice(self.cash_in))\r\n",
        "\r\n",
        "        # Follow guru: 10% users decide follows gurus 'if guru showed \r\n",
        "        # their portfolio -> so the probability is lower'\r\n",
        "        # Randomly they will follow from 0 - 4 guru\r\n",
        "        if binary_choice(0.5):\r\n",
        "          for i in range(random.randint(1,7)):  \r\n",
        "            point_earned = user.follow_guru(\r\n",
        "              random.choice(self.users_base), self.follow_guru_point\r\n",
        "              )\r\n",
        "            self.stat_dict['follow_guru_total'] += point_earned #phan point tiet kiem duoc sau khi tra cho nguoi duoc followed\r\n",
        "\r\n",
        "        # Similar with follow_guru\r\n",
        "        if binary_choice(0.9):\r\n",
        "          for i in range(random.randint(1,12)):\r\n",
        "            point_earned = user.view_portfolio(\r\n",
        "              random.choice(self.users_base), self.view_portfolio_point\r\n",
        "              )\r\n",
        "            self.stat_dict['view_portfolio_total'] += point_earned #phan point tiet kiem duoc sau khi tra cho nguoi duoc viewed\r\n",
        "      \r\n",
        "  def trading(self, i): \r\n",
        "    \"\"\" \r\n",
        "        trading activities including buying, selling and making margin\r\n",
        "        i (int): day ith    \"\"\"\r\n",
        "    if i % 20 == 0: \r\n",
        "      for u in self.users_base: \r\n",
        "        u.set_monthly_cap_value(self.max_trading_value, self.max_margin_value)\r\n",
        "\r\n",
        "    random_buying = []\r\n",
        "    number_users_buy = int(self.pct_buy[i]/100 * len(self.users_base))\r\n",
        "    for n in range(number_users_buy): \r\n",
        "      r = random.choice(self.buying_sample)\r\n",
        "      random_buying.append(r)\r\n",
        "    random_buying.sort()\r\n",
        "  \r\n",
        "    buy_today = []\r\n",
        "\r\n",
        "    #loop until the number of users buying equal to number_users_buy\r\n",
        "    while (len(buy_today) < number_users_buy): \r\n",
        "      for u in self.users_base: \r\n",
        "        if binary_choice(u.active_level_scaled) and u.id not in buy_today and u.trade_day < 100: \r\n",
        "          id_amount = max(0, int(u.active_level_scaled * len(random_buying)) - 1)         \r\n",
        "          # print(u.monthly_cap)\r\n",
        "          #buying behaviour of margin user\r\n",
        "          if u.is_margin: \r\n",
        "            buy_amount = np.random.choice(random_buying[id_amount : min(id_amount + 400, number_users_buy)])\r\n",
        "            buy_today.append(u)\r\n",
        "            u.add_buy_amount(buy_amount)\r\n",
        "           \r\n",
        "            if buy_amount > u.cash_balance:                   \r\n",
        "              point_earned = u.make_trading(u.cash_balance, self.trading_pct)\r\n",
        "              self.stat_dict['make_trading_total'] += point_earned \r\n",
        "\r\n",
        "              margin_amount = buy_amount - u.cash_balance \r\n",
        "              point_earned = u.make_margin(margin_amount, self.margin_pct)\r\n",
        "              self.stat_dict['make_margin_total'] += point_earned\r\n",
        "\r\n",
        "            \r\n",
        "            else:   \r\n",
        "                point_earned = u.make_trading(buy_amount, self.trading_pct)\r\n",
        "                self.stat_dict['make_trading_total'] += point_earned\r\n",
        "\r\n",
        "\r\n",
        "          #buying behaviour of non-margin user\r\n",
        "          else:\r\n",
        "            buy_amount = np.random.choice(random_buying[max(0, id_amount-100): min(id_amount + 100, number_users_buy)])\r\n",
        "            if u.cash_balance > 0:\r\n",
        "              buy_amount = min(u.cash_balance, buy_amount)  \r\n",
        "              u.add_buy_amount(buy_amount)\r\n",
        "              point_earned = u.make_trading(buy_amount, self.trading_pct)  \r\n",
        "              self.stat_dict['make_trading_total'] += point_earned\r\n",
        "  \r\n",
        "              buy_today.append(u)\r\n",
        "\r\n",
        "    ###SELLING\r\n",
        "    random_selling = []\r\n",
        "    number_users_sell = int(self.pct_sell[i]/100 * len(self.users_base))\r\n",
        "    for n in range(number_users_sell): \r\n",
        "      r = random.choice(self.selling_sample)\r\n",
        "      random_selling.append(r)\r\n",
        "    random_selling.sort()\r\n",
        "\r\n",
        "    sell_today = []\r\n",
        "    while (len(sell_today) < number_users_sell): \r\n",
        "      for u in self.users_base: \r\n",
        "        if binary_choice(u.active_level_scaled) and u.id not in sell_today and u.trade_day < 100:     \r\n",
        "          id_amount = max(0, int(u.active_level_scaled * len(random_selling)) - 1)         \r\n",
        "          sell_amount = np.random.choice(random_selling[max(0, id_amount-100): min(id_amount + 200, number_users_sell)])\r\n",
        "          u.add_sell_amount(sell_amount)\r\n",
        "          point_earned = u.make_trading(sell_amount, self.trading_pct)  \r\n",
        "          self.stat_dict['make_trading_total'] += point_earned  \r\n",
        "          # print('point_earned',  point_earned, sell_amount)  \r\n",
        "          sell_today.append(u)\r\n",
        "\r\n",
        "\r\n",
        "    #UPDATE\r\n",
        "    trade_today = set(sell_today + buy_today)\r\n",
        "    for u_trade in trade_today:\r\n",
        "      u_trade.add_trade_day() \r\n",
        "\r\n",
        "  def end_of_day_activities(self):\r\n",
        "\r\n",
        "    #cash_out\r\n",
        "    for user in self.users_base:\r\n",
        "      if binary_choice(0.09): \r\n",
        "        cash_out_amount = user.cash_out(amount = 0.5*random.choice(self.cash_in))\r\n",
        "        # print('cash_out_amount', cash_out_amount)\r\n",
        "\r\n",
        "  def betting_game(self): \r\n",
        "\r\n",
        "    #players_base: các players sẽ được xếp vào 3 nhóm tùy vào thời điểm họ tham gia, hiện tại người thắng cuộc đang chọn trong từng nhóm \r\n",
        "    #nhưng có lẽ nên sửa là người thắng cuộc ở nhóm 3 có thể thuộc cả 3 nhóm chứ nhỉ\r\n",
        "\r\n",
        "    players_base = [[] for i in range(3)]\r\n",
        "    money_bet = [0] * 3\r\n",
        "\r\n",
        "    random.shuffle(self.users_base)\r\n",
        "    for user in self.users_base: \r\n",
        "      if binary_choice(0.25): \r\n",
        "        g_result = user.playing_game()\r\n",
        "\r\n",
        "        #g_result chứa mini game mà họ tham gia (thời điểm z đặt bet) và size bet\r\n",
        "        if g_result is not None: \r\n",
        "          mini_game, betting_size = g_result\r\n",
        "          self.betting.append(betting_size)\r\n",
        "          players_base[mini_game].append(user)\r\n",
        "          money_bet[mini_game] += betting_size\r\n",
        "\r\n",
        "    #để report, thêm tổng lượng money bet của ngày hôm đó vào game_spent_total\r\n",
        "    self.stat_dict['game_spent_total'] += sum(money_bet)\r\n",
        "  \r\n",
        "    #current_money_bet để giữ lượng tiền còn lại (sau khi đã trả thưởng)\r\n",
        "    current_money_bet = 0 \r\n",
        "    for i, mini_game in enumerate(players_base):  \r\n",
        "      #chọn random winner\r\n",
        "      winners = np.random.choice(mini_game, size=3)\r\n",
        "      #thêm tổng lượng bet ở chặng i vào current_money_bet\r\n",
        "      current_money_bet += money_bet[i]\r\n",
        "      #chỉ lấy x% lượng bet hiện tại để trả thưởng\r\n",
        "      total_winning_size = current_money_bet * self.winning_pct[i]\r\n",
        "      current_money_bet  -= total_winning_size \r\n",
        "\r\n",
        "      for winner, pct_win in zip(winners, self.user_winning_pct): \r\n",
        "        #trả thưởng bằng gold nên phải có conversion rate\r\n",
        "        winning_size = np.clip(pct_win * total_winning_size * self.conversion_rate, 1, 20)\r\n",
        "        #update winning_size bằng gold cho winner\r\n",
        "        winner.win(winning_size) \r\n",
        "        #update winning_game_total để report\r\n",
        "        self.stat_dict['winning_game_total'] += winning_size\r\n",
        "     \r\n",
        "\r\n",
        "  def adjust_gold_silver(self): \r\n",
        "    silver_group = ['guru_account_total', 'view_portfolio_total', 'follow_guru_total','game_spent_total', 'make_referral_total']\r\n",
        "    for each in silver_group:\r\n",
        "      self.stat_dict[each] = self.stat_dict[each] * self.conversion_rate\r\n",
        "\r\n",
        "  def run_simul(self, refer_rate = 0.6): \r\n",
        "    \"\"\" \r\n",
        "      run simulation\r\n",
        "      refer_rate: how many percentage of customers will make referall\r\n",
        "    \"\"\"\r\n",
        "    self.refer_rate = refer_rate\r\n",
        "\r\n",
        "    for i, user_num in tqdm(enumerate(self.ab_growth)):\r\n",
        "      # if day 0, no one is making referral\r\n",
        "      if i == 0:\r\n",
        "        total_refer = 0 \r\n",
        "      else: \r\n",
        "        #else, x% users come from referral program\r\n",
        "        total_refer = int(user_num * self.refer_rate)\r\n",
        "\r\n",
        "        #make referral\r\n",
        "        self.referral_program(total_refer)\r\n",
        "\r\n",
        "      #add new user and generate behaviour \r\n",
        "      self.add_new_user(user_num, total_refer)\r\n",
        "\r\n",
        "      #daily activities: top up, view, follow\r\n",
        "      self.daily_activities()\r\n",
        "\r\n",
        "      #trading: buy, sell, make margin\r\n",
        "      self.trading(i)\r\n",
        "    \r\n",
        "      if i > 10:\r\n",
        "      #betting game\r\n",
        "        self.betting_game()\r\n",
        "\r\n",
        "      #end of day activities : cash out\r\n",
        "      self.end_of_day_activities()\r\n",
        "\r\n",
        "    #dataframe for reporting\r\n",
        "    user_df = pd.DataFrame.from_records([s.to_dict() for s in self.users_base])\r\n",
        "\r\n",
        "    #adjusted cost to gold \r\n",
        "    self.adjust_gold_silver()\r\n",
        "\r\n",
        "    return user_df, self.stat_dict"
      ],
      "execution_count": 36,
      "outputs": []
    },
    {
      "cell_type": "code",
      "metadata": {
        "colab": {
          "base_uri": "https://localhost:8080/",
          "height": 67,
          "referenced_widgets": [
            "8eed5699f6b741089d8768ed41d216bf",
            "db0e3311d6dd45fa93e1215a48f68edb",
            "9c1cf4a71cd34ca391194568763a8fd1",
            "41a67e7746044c4f8d7e8235485c0781",
            "62c309e5f7f84d618dec61daab81bb81",
            "76a8ff0653f841f79e456dfa711f67b7",
            "efe2daacfaee4a99a8853000c59fae49",
            "4d4f411682b04be1a3ffd51799b5844b"
          ]
        },
        "id": "2kI3riXRen_g",
        "outputId": "8bea1a39-cc73-43d6-9e4e-e91b33615f95"
      },
      "source": [
        "ab_growth = user_growth(life_cycle=254, day_test=60)\r\n",
        "expected_users = expected_users\r\n",
        "avg_trade = 8 \r\n",
        "conversion_rate = 0.001\r\n",
        "winning_pct = [10/100, 20/100, 30/100]\r\n",
        "\r\n",
        "max_trading_value = 10**10\r\n",
        "max_margin_value = 10**10\r\n",
        "#==============================================#\r\n",
        "\r\n",
        "\t#==========================================#\r\n",
        "\t#                                          #\r\n",
        "\t#\t\t\t        \t    GOLD  \t      \t\t\t   #\r\n",
        "\t#                                          #\r\n",
        "\t#==========================================#\r\n",
        "\r\n",
        "open_account_point = 0.5\r\n",
        "show_portfolio_point = 500\r\n",
        "trading_pct = 0.0009/10**6\r\n",
        "margin_pct = 0.0004/10**6\r\n",
        "initial_fund_pct = 0.003/10**6\r\n",
        "fund_pct = 0.001\r\n",
        "\r\n",
        "\t#==========================================#\r\n",
        "\t#                                          #\r\n",
        "\t#\t\t\t        \t   SILVER  \t      \t\t\t   #\r\n",
        "\t#                                          #\r\n",
        "\t#==========================================#\r\n",
        "\r\n",
        "open_guru_account_point = 400\r\n",
        "link_ssi_account_point = 500\r\n",
        "make_referral_point = 800\r\n",
        "be_referred_rate = 0.5 #referee earned half of referrer\r\n",
        "view_portfolio_point = 50\r\n",
        "follow_guru_point = 100\r\n",
        "\r\n",
        "#===============================================#\r\n",
        "\r\n",
        "simul = SIMULATION(expected_users = expected_users,\r\n",
        "                   ab_growth = ab_growth, \r\n",
        "                   cash_balance = cash_balance,\r\n",
        "                   cash_in = cash_in,\r\n",
        "                   selling_sample = selling_sample,\r\n",
        "                   buying_sample = buying_sample,\r\n",
        "                   margin_sample = margin_sample,\r\n",
        "                   avg_trade = avg_trade)\r\n",
        "\r\n",
        "simul.set_simulation_variables(open_guru_account_point = open_guru_account_point, \r\n",
        "                               open_account_point = open_account_point, \r\n",
        "                               link_ssi_account_point = link_ssi_account_point,\r\n",
        "                               make_referral_point = make_referral_point,\r\n",
        "                               be_referred_rate = be_referred_rate,\r\n",
        "                               show_portfolio_point = show_portfolio_point, \r\n",
        "                               view_portfolio_point = view_portfolio_point, \r\n",
        "                               follow_guru_point = follow_guru_point, \r\n",
        "                               initial_fund_pct = initial_fund_pct,\r\n",
        "                               fund_pct = fund_pct, \r\n",
        "                               trading_pct = trading_pct, \r\n",
        "                               margin_pct = margin_pct, \r\n",
        "                               conversion_rate = conversion_rate, \r\n",
        "                               winning_pct = winning_pct,\r\n",
        "                               max_trading_value = max_trading_value,\r\n",
        "                               max_margin_value = max_margin_value)\r\n",
        "\r\n",
        "user_df, stat_dict = simul.run_simul()"
      ],
      "execution_count": 40,
      "outputs": [
        {
          "output_type": "display_data",
          "data": {
            "application/vnd.jupyter.widget-view+json": {
              "model_id": "8eed5699f6b741089d8768ed41d216bf",
              "version_minor": 0,
              "version_major": 2
            },
            "text/plain": [
              "HBox(children=(FloatProgress(value=1.0, bar_style='info', max=1.0), HTML(value='')))"
            ]
          },
          "metadata": {
            "tags": []
          }
        },
        {
          "output_type": "stream",
          "text": [
            "\n"
          ],
          "name": "stdout"
        }
      ]
    },
    {
      "cell_type": "markdown",
      "metadata": {
        "id": "TnSvmSQcx7zL"
      },
      "source": [
        "#Statistics"
      ]
    },
    {
      "cell_type": "code",
      "metadata": {
        "colab": {
          "base_uri": "https://localhost:8080/"
        },
        "id": "L4xcndFgmQH4",
        "outputId": "7f627e46-c6ef-4519-9f72-0b14be49ba28"
      },
      "source": [
        "stat_series = pd.Series(stat_dict)\r\n",
        "stat_series"
      ],
      "execution_count": 42,
      "outputs": [
        {
          "output_type": "execute_result",
          "data": {
            "text/plain": [
              "guru_account_total      5.309200e+03\n",
              "open_account_total      2.645000e+03\n",
              "link_account_total      2.671500e+06\n",
              "make_referral_total     9.422400e+03\n",
              "new_fund_total          1.232600e+04\n",
              "interest_total          0.000000e+00\n",
              "make_trading_total      5.490266e+03\n",
              "make_margin_total       2.742487e+03\n",
              "view_portfolio_total    2.202270e+03\n",
              "show_portfolio_total    2.336500e+06\n",
              "follow_guru_total       1.505000e+03\n",
              "game_spent_total        1.071187e+04\n",
              "winning_game_total      3.092317e+03\n",
              "dtype: float64"
            ]
          },
          "metadata": {
            "tags": []
          },
          "execution_count": 42
        }
      ]
    },
    {
      "cell_type": "code",
      "metadata": {
        "colab": {
          "base_uri": "https://localhost:8080/",
          "height": 627
        },
        "id": "busIsl7x9j5J",
        "outputId": "152f5aca-ff9f-45e9-ff40-f67763b3a44c"
      },
      "source": [
        "spending = stat_series.reindex(['view_portfolio_total','winning_game_total', 'guru_account_total','open_account_total','interest_total','make_margin_total', \r\n",
        "              'make_referral_total', 'make_trading_total','new_fund_total', 'follow_guru_total'])\r\n",
        "spending_in_gold = spending.reindex(['winning_game_total', 'open_account_total', 'interest_total', 'make_margin_total', 'make_trading_total', 'show_portfolio_total',\r\n",
        "                                     'new_fund_total'])\r\n",
        "fig = plt.figure(figsize=(10,10))\r\n",
        "print('Total spending: ', spending.sum())\r\n",
        "print('Percentage spending in gold: ', spending_in_gold.sum()/spending.sum())\r\n",
        "plt.title('SPENDING')\r\n",
        "spending.plot.pie(autopct=\"%.1f%%\");"
      ],
      "execution_count": 43,
      "outputs": [
        {
          "output_type": "stream",
          "text": [
            "Total spending:  44734.93974376779\n",
            "Percentage spending in gold:  0.5878194962234459\n"
          ],
          "name": "stdout"
        },
        {
          "output_type": "display_data",
          "data": {
            "image/png": "[encoded data removed]",
            "text/plain": [
              "<Figure size 720x720 with 1 Axes>"
            ]
          },
          "metadata": {
            "tags": []
          }
        }
      ]
    },
    {
      "cell_type": "code",
      "metadata": {
        "colab": {
          "base_uri": "https://localhost:8080/",
          "height": 627
        },
        "id": "VQY5Ox4JWa8X",
        "outputId": "51e4ba91-a94a-4d37-b1fa-4a0152402410"
      },
      "source": [
        "receiving = pd.Series(dtype=object)\r\n",
        "receiving['users_spend_on_game'] = stat_series['game_spent_total']\r\n",
        "receiving['points_given_for_users'] = spending_in_gold.sum() - receiving['users_spend_on_game']\r\n",
        "fig = plt.figure(figsize=(10,10))\r\n",
        "print('Total saving: ', receiving['users_spend_on_game'])\r\n",
        "print('Percentage saving: ', receiving['users_spend_on_game']/spending_in_gold.sum())\r\n",
        "plt.title('SAVING')\r\n",
        "receiving.plot.pie(autopct=\"%.1f%%\");"
      ],
      "execution_count": 44,
      "outputs": [
        {
          "output_type": "stream",
          "text": [
            "Total saving:  10711.874642884228\n",
            "Percentage saving:  0.4073564889073569\n"
          ],
          "name": "stdout"
        },
        {
          "output_type": "display_data",
          "data": {
            "image/png": "[encoded data removed]",
            "text/plain": [
              "<Figure size 720x720 with 1 Axes>"
            ]
          },
          "metadata": {
            "tags": []
          }
        }
      ]
    },
    {
      "cell_type": "markdown",
      "metadata": {
        "id": "rp5d1mZPUTZ8"
      },
      "source": [
        "statistics"
      ]
    },
    {
      "cell_type": "code",
      "metadata": {
        "colab": {
          "base_uri": "https://localhost:8080/"
        },
        "id": "bTpIG8SMXuR2",
        "outputId": "2ee520c3-f5e3-421d-c140-68949e9e0a38"
      },
      "source": [
        "print('total gold in community', user_df['gold'].sum())\r\n",
        "print('total gold in community excluding winning price', user_df['gold'].sum() - user_df['winning_size'].sum())\r\n",
        "print('total silver point in community', user_df['point'].sum())\r\n",
        "print('total trading value', user_df['total_buy_amount'].sum() + user_df['total_sell_amount'].sum())"
      ],
      "execution_count": null,
      "outputs": [
        {
          "output_type": "stream",
          "text": [
            "total gold in community 139403.73786217056\n",
            "total gold in community excluding winning price 137519.48548670585\n",
            "total silver point in community 21717725.626842335\n",
            "total trading value 16843374840082.5\n"
          ],
          "name": "stdout"
        }
      ]
    },
    {
      "cell_type": "code",
      "metadata": {
        "colab": {
          "base_uri": "https://localhost:8080/",
          "height": 336
        },
        "id": "t982xkYXAvUf",
        "outputId": "43d43009-d444-4173-95a4-85892b96424f"
      },
      "source": [
        "plt.hist(simul.betting)"
      ],
      "execution_count": null,
      "outputs": [
        {
          "output_type": "execute_result",
          "data": {
            "text/plain": [
              "(array([2386., 1596., 3435., 5070., 3875., 4455., 7741., 5547., 2471.,\n",
              "        2915.]),\n",
              " array([  0.,  24.,  48.,  72.,  96., 120., 144., 168., 192., 216., 240.]),\n",
              " <a list of 10 Patch objects>)"
            ]
          },
          "metadata": {
            "tags": []
          },
          "execution_count": 98
        },
        {
          "output_type": "display_data",
          "data": {
            "image/png": "[encoded data removed]",
            "text/plain": [
              "<Figure size 432x288 with 1 Axes>"
            ]
          },
          "metadata": {
            "tags": [],
            "needs_background": "light"
          }
        }
      ]
    },
    {
      "cell_type": "code",
      "metadata": {
        "colab": {
          "base_uri": "https://localhost:8080/"
        },
        "id": "85I4HQud6DqQ",
        "outputId": "ae20bbfb-ecfd-42d9-fea9-faa9953a95d1"
      },
      "source": [
        "user_df['point'].sort_values(ascending=False)[:20]"
      ],
      "execution_count": null,
      "outputs": [
        {
          "output_type": "execute_result",
          "data": {
            "text/plain": [
              "585     24360.635241\n",
              "4391    23644.555473\n",
              "1029    23504.386106\n",
              "3956    23206.650390\n",
              "5537    23108.087137\n",
              "2098    23106.345328\n",
              "1233    23060.470253\n",
              "3188    23011.189219\n",
              "3638    22910.248353\n",
              "1323    22901.130373\n",
              "705     22863.101595\n",
              "5137    22811.352127\n",
              "5489    22722.584522\n",
              "1518    22676.986483\n",
              "1360    22643.660857\n",
              "5078    22558.730479\n",
              "3449    22505.369184\n",
              "3952    22459.901855\n",
              "2494    22357.755726\n",
              "1387    22268.387452\n",
              "Name: point, dtype: float64"
            ]
          },
          "metadata": {
            "tags": []
          },
          "execution_count": 99
        }
      ]
    },
    {
      "cell_type": "code",
      "metadata": {
        "colab": {
          "base_uri": "https://localhost:8080/",
          "height": 285
        },
        "id": "EWg4zoyyoKAc",
        "outputId": "54e683e1-f3be-4a57-e862-4db2ac6727ff"
      },
      "source": [
        "user_df[(user_df['point'] < 300)]['point'].hist()"
      ],
      "execution_count": null,
      "outputs": [
        {
          "output_type": "execute_result",
          "data": {
            "text/plain": [
              "<matplotlib.axes._subplots.AxesSubplot at 0x7f60b907a0f0>"
            ]
          },
          "metadata": {
            "tags": []
          },
          "execution_count": 100
        },
        {
          "output_type": "display_data",
          "data": {
            "image/png": "[encoded data removed]",
            "text/plain": [
              "<Figure size 432x288 with 1 Axes>"
            ]
          },
          "metadata": {
            "tags": [],
            "needs_background": "light"
          }
        }
      ]
    },
    {
      "cell_type": "code",
      "metadata": {
        "colab": {
          "base_uri": "https://localhost:8080/",
          "height": 286
        },
        "id": "_8qRQdd_YAhM",
        "outputId": "6bdfc641-98b9-46a2-872b-9e472c982085"
      },
      "source": [
        "user_df[user_df['gold'] < 5000]['gold'].hist()"
      ],
      "execution_count": null,
      "outputs": [
        {
          "output_type": "execute_result",
          "data": {
            "text/plain": [
              "<matplotlib.axes._subplots.AxesSubplot at 0x7f60b8809c88>"
            ]
          },
          "metadata": {
            "tags": []
          },
          "execution_count": 101
        },
        {
          "output_type": "display_data",
          "data": {
            "image/png": "[encoded data removed]",
            "text/plain": [
              "<Figure size 432x288 with 1 Axes>"
            ]
          },
          "metadata": {
            "tags": [],
            "needs_background": "light"
          }
        }
      ]
    },
    {
      "cell_type": "code",
      "metadata": {
        "colab": {
          "base_uri": "https://localhost:8080/"
        },
        "id": "-Itq2EQVUUSb",
        "outputId": "3f168b0d-7d1e-4130-fb86-7ea8634dcbc6"
      },
      "source": [
        "print(user_df['is_margin'].value_counts())"
      ],
      "execution_count": null,
      "outputs": [
        {
          "output_type": "stream",
          "text": [
            "False    3439\n",
            "True     2169\n",
            "Name: is_margin, dtype: int64\n"
          ],
          "name": "stdout"
        }
      ]
    },
    {
      "cell_type": "code",
      "metadata": {
        "colab": {
          "base_uri": "https://localhost:8080/",
          "height": 319
        },
        "id": "y4n2eDHPYQcW",
        "outputId": "65e89c7a-83c3-41fb-ef32-2b6909f2c23a"
      },
      "source": [
        "plt.hist(user_df['follow_guru_time']) # .hist()"
      ],
      "execution_count": null,
      "outputs": [
        {
          "output_type": "execute_result",
          "data": {
            "text/plain": [
              "(array([952., 978., 787., 965., 803., 632., 362.,  96.,  27.,   6.]),\n",
              " array([ 0. ,  6.6, 13.2, 19.8, 26.4, 33. , 39.6, 46.2, 52.8, 59.4, 66. ]),\n",
              " <a list of 10 Patch objects>)"
            ]
          },
          "metadata": {
            "tags": []
          },
          "execution_count": 103
        },
        {
          "output_type": "display_data",
          "data": {
            "image/png": "[encoded data removed]",
            "text/plain": [
              "<Figure size 432x288 with 1 Axes>"
            ]
          },
          "metadata": {
            "tags": [],
            "needs_background": "light"
          }
        }
      ]
    },
    {
      "cell_type": "code",
      "metadata": {
        "colab": {
          "base_uri": "https://localhost:8080/",
          "height": 285
        },
        "id": "GYNFfhvtYMtB",
        "outputId": "3be17dce-a01b-43f1-8d0c-b5f569811aee"
      },
      "source": [
        "user_df['refer_time'].hist()"
      ],
      "execution_count": null,
      "outputs": [
        {
          "output_type": "execute_result",
          "data": {
            "text/plain": [
              "<matplotlib.axes._subplots.AxesSubplot at 0x7f60b86fa9e8>"
            ]
          },
          "metadata": {
            "tags": []
          },
          "execution_count": 104
        },
        {
          "output_type": "display_data",
          "data": {
            "image/png": "[encoded data removed]",
            "text/plain": [
              "<Figure size 432x288 with 1 Axes>"
            ]
          },
          "metadata": {
            "tags": [],
            "needs_background": "light"
          }
        }
      ]
    },
    {
      "cell_type": "code",
      "metadata": {
        "colab": {
          "base_uri": "https://localhost:8080/",
          "height": 287
        },
        "id": "k2SFDvdOf6xI",
        "outputId": "d83dbcb2-31db-4204-f828-466c8a92c2c3"
      },
      "source": [
        "user_df['view_portfolio_time'].hist()"
      ],
      "execution_count": null,
      "outputs": [
        {
          "output_type": "execute_result",
          "data": {
            "text/plain": [
              "<matplotlib.axes._subplots.AxesSubplot at 0x7f60b8678588>"
            ]
          },
          "metadata": {
            "tags": []
          },
          "execution_count": 105
        },
        {
          "output_type": "display_data",
          "data": {
            "image/png": "[encoded data removed]",
            "text/plain": [
              "<Figure size 432x288 with 1 Axes>"
            ]
          },
          "metadata": {
            "tags": [],
            "needs_background": "light"
          }
        }
      ]
    },
    {
      "cell_type": "code",
      "metadata": {
        "colab": {
          "base_uri": "https://localhost:8080/",
          "height": 285
        },
        "id": "XHzA4HeqhS-y",
        "outputId": "02d3a2d2-0a90-41a9-fa64-d13cc45ad0e7"
      },
      "source": [
        "user_df['active_level_scaled'].hist(bins=100)"
      ],
      "execution_count": null,
      "outputs": [
        {
          "output_type": "execute_result",
          "data": {
            "text/plain": [
              "<matplotlib.axes._subplots.AxesSubplot at 0x7f60b860ae10>"
            ]
          },
          "metadata": {
            "tags": []
          },
          "execution_count": 106
        },
        {
          "output_type": "display_data",
          "data": {
            "image/png": "[encoded data removed]",
            "text/plain": [
              "<Figure size 432x288 with 1 Axes>"
            ]
          },
          "metadata": {
            "tags": [],
            "needs_background": "light"
          }
        }
      ]
    },
    {
      "cell_type": "code",
      "metadata": {
        "id": "AFE2JMqVw97r",
        "colab": {
          "base_uri": "https://localhost:8080/"
        },
        "outputId": "6d671942-c981-44bf-fc64-fa633517c983"
      },
      "source": [
        "print('total point converted from gold: ', user_df['point_from_gold'].sum())\r\n",
        "print('percentage: ', user_df['point_from_gold'].sum()/user_df['point'].sum())"
      ],
      "execution_count": null,
      "outputs": [
        {
          "output_type": "stream",
          "text": [
            "total point converted from gold:  48000.0\n",
            "percentage:  0.002210176186251921\n"
          ],
          "name": "stdout"
        }
      ]
    },
    {
      "cell_type": "code",
      "metadata": {
        "colab": {
          "base_uri": "https://localhost:8080/",
          "height": 366
        },
        "id": "Tut51Gw5hU5R",
        "outputId": "27fce5e8-49bf-4be0-cfa2-b07593bd6126"
      },
      "source": [
        "plt.hist(user_df[user_df['cash_balance'] < 1000000000]['cash_balance'])"
      ],
      "execution_count": null,
      "outputs": [
        {
          "output_type": "execute_result",
          "data": {
            "text/plain": [
              "(array([424., 154., 121., 109.,  84.,  76.,  66.,  59.,  62.,  49.]),\n",
              " array([0.0000000e+00, 9.9897120e+07, 1.9979424e+08, 2.9969136e+08,\n",
              "        3.9958848e+08, 4.9948560e+08, 5.9938272e+08, 6.9927984e+08,\n",
              "        7.9917696e+08, 8.9907408e+08, 9.9897120e+08]),\n",
              " <a list of 10 Patch objects>)"
            ]
          },
          "metadata": {
            "tags": []
          },
          "execution_count": 31
        },
        {
          "output_type": "display_data",
          "data": {
            "image/png": "[encoded data removed]",
            "text/plain": [
              "<Figure size 432x288 with 1 Axes>"
            ]
          },
          "metadata": {
            "tags": [],
            "needs_background": "light"
          }
        }
      ]
    },
    {
      "cell_type": "code",
      "metadata": {
        "colab": {
          "base_uri": "https://localhost:8080/",
          "height": 394
        },
        "id": "t-JnZh9FhdYv",
        "outputId": "c3aa3ced-3c16-4097-b1f2-512fa01bffcc"
      },
      "source": [
        "fig, ax = plt.subplots(figsize=(10, 6))\r\n",
        "compare = 'cash_balance'\r\n",
        "ax.scatter(x = user_df[user_df['cash_balance'] < 10000000000][compare], y = user_df[user_df['cash_balance'] < 10000000000]['active_level_scaled'])\r\n",
        "plt.xlabel(compare)\r\n",
        "plt.ylabel('active_level_scaled')\r\n",
        "\r\n",
        "plt.show()"
      ],
      "execution_count": null,
      "outputs": [
        {
          "output_type": "display_data",
          "data": {
            "image/png": "[encoded data removed]",
            "text/plain": [
              "<Figure size 720x432 with 1 Axes>"
            ]
          },
          "metadata": {
            "tags": [],
            "needs_background": "light"
          }
        }
      ]
    },
    {
      "cell_type": "code",
      "metadata": {
        "colab": {
          "base_uri": "https://localhost:8080/",
          "height": 394
        },
        "id": "1ltpW_Jhhe9q",
        "outputId": "3c9ba1aa-8a2f-4f56-8ce1-cb53fba22533"
      },
      "source": [
        "fig, ax = plt.subplots(figsize=(10, 6))\r\n",
        "compare = 'total_buy_amount'\r\n",
        "ax.scatter(x = user_df[user_df['total_buy_amount'] < 10000000000][compare], y = user_df[user_df['total_buy_amount'] < 10000000000]['active_level_scaled'])\r\n",
        "plt.xlabel(compare)\r\n",
        "plt.ylabel('active_level_scaled')\r\n",
        "\r\n",
        "plt.show()"
      ],
      "execution_count": null,
      "outputs": [
        {
          "output_type": "display_data",
          "data": {
            "image/png": "[encoded data removed]",
            "text/plain": [
              "<Figure size 720x432 with 1 Axes>"
            ]
          },
          "metadata": {
            "tags": [],
            "needs_background": "light"
          }
        }
      ]
    }
  ]
}